{
 "cells": [
  {
   "cell_type": "code",
   "execution_count": 1,
   "metadata": {},
   "outputs": [],
   "source": [
    "import pandas as pd\n",
    "import numpy as np\n",
    "import matplotlib.pyplot as plt\n",
    "import seaborn as sns\n",
    "import spacy\n",
    "import joblib"
   ]
  },
  {
   "cell_type": "markdown",
   "metadata": {},
   "source": [
    "**spaCy Model is a small English pipeline trained on written web text (blogs, news, comments), that includes vocabulary, vectors, syntax and entities.**"
   ]
  },
  {
   "cell_type": "code",
   "execution_count": 65,
   "metadata": {},
   "outputs": [],
   "source": [
    "nlp=spacy.load(\"en_core_web_sm\")"
   ]
  },
  {
   "cell_type": "code",
   "execution_count": 90,
   "metadata": {},
   "outputs": [
    {
     "data": {
      "text/html": [
       "<div>\n",
       "<style scoped>\n",
       "    .dataframe tbody tr th:only-of-type {\n",
       "        vertical-align: middle;\n",
       "    }\n",
       "\n",
       "    .dataframe tbody tr th {\n",
       "        vertical-align: top;\n",
       "    }\n",
       "\n",
       "    .dataframe thead th {\n",
       "        text-align: right;\n",
       "    }\n",
       "</style>\n",
       "<table border=\"1\" class=\"dataframe\">\n",
       "  <thead>\n",
       "    <tr style=\"text-align: right;\">\n",
       "      <th></th>\n",
       "      <th>id</th>\n",
       "      <th>comment_text</th>\n",
       "      <th>toxic</th>\n",
       "      <th>severe_toxic</th>\n",
       "      <th>obscene</th>\n",
       "      <th>threat</th>\n",
       "      <th>insult</th>\n",
       "      <th>identity_hate</th>\n",
       "    </tr>\n",
       "  </thead>\n",
       "  <tbody>\n",
       "    <tr>\n",
       "      <th>0</th>\n",
       "      <td>0000997932d777bf</td>\n",
       "      <td>Explanation\\nWhy the edits made under my usern...</td>\n",
       "      <td>0</td>\n",
       "      <td>0</td>\n",
       "      <td>0</td>\n",
       "      <td>0</td>\n",
       "      <td>0</td>\n",
       "      <td>0</td>\n",
       "    </tr>\n",
       "    <tr>\n",
       "      <th>1</th>\n",
       "      <td>000103f0d9cfb60f</td>\n",
       "      <td>D'aww! He matches this background colour I'm s...</td>\n",
       "      <td>0</td>\n",
       "      <td>0</td>\n",
       "      <td>0</td>\n",
       "      <td>0</td>\n",
       "      <td>0</td>\n",
       "      <td>0</td>\n",
       "    </tr>\n",
       "    <tr>\n",
       "      <th>2</th>\n",
       "      <td>000113f07ec002fd</td>\n",
       "      <td>Hey man, I'm really not trying to edit war. It...</td>\n",
       "      <td>0</td>\n",
       "      <td>0</td>\n",
       "      <td>0</td>\n",
       "      <td>0</td>\n",
       "      <td>0</td>\n",
       "      <td>0</td>\n",
       "    </tr>\n",
       "    <tr>\n",
       "      <th>3</th>\n",
       "      <td>0001b41b1c6bb37e</td>\n",
       "      <td>\"\\nMore\\nI can't make any real suggestions on ...</td>\n",
       "      <td>0</td>\n",
       "      <td>0</td>\n",
       "      <td>0</td>\n",
       "      <td>0</td>\n",
       "      <td>0</td>\n",
       "      <td>0</td>\n",
       "    </tr>\n",
       "    <tr>\n",
       "      <th>4</th>\n",
       "      <td>0001d958c54c6e35</td>\n",
       "      <td>You, sir, are my hero. Any chance you remember...</td>\n",
       "      <td>0</td>\n",
       "      <td>0</td>\n",
       "      <td>0</td>\n",
       "      <td>0</td>\n",
       "      <td>0</td>\n",
       "      <td>0</td>\n",
       "    </tr>\n",
       "  </tbody>\n",
       "</table>\n",
       "</div>"
      ],
      "text/plain": [
       "                 id                                       comment_text  toxic  \\\n",
       "0  0000997932d777bf  Explanation\\nWhy the edits made under my usern...      0   \n",
       "1  000103f0d9cfb60f  D'aww! He matches this background colour I'm s...      0   \n",
       "2  000113f07ec002fd  Hey man, I'm really not trying to edit war. It...      0   \n",
       "3  0001b41b1c6bb37e  \"\\nMore\\nI can't make any real suggestions on ...      0   \n",
       "4  0001d958c54c6e35  You, sir, are my hero. Any chance you remember...      0   \n",
       "\n",
       "   severe_toxic  obscene  threat  insult  identity_hate  \n",
       "0             0        0       0       0              0  \n",
       "1             0        0       0       0              0  \n",
       "2             0        0       0       0              0  \n",
       "3             0        0       0       0              0  \n",
       "4             0        0       0       0              0  "
      ]
     },
     "execution_count": 90,
     "metadata": {},
     "output_type": "execute_result"
    }
   ],
   "source": [
    "df=pd.read_csv(\"train.csv\")\n",
    "df.head()"
   ]
  },
  {
   "cell_type": "markdown",
   "metadata": {},
   "source": [
    "## Data Cleaning"
   ]
  },
  {
   "cell_type": "code",
   "execution_count": 91,
   "metadata": {},
   "outputs": [],
   "source": [
    "def text_process(message):\n",
    "    doc=nlp(message)\n",
    "    final=[token.lemma_ for token in doc if token.is_stop== False and token.text.isalpha()== True ]\n",
    "    return \" \".join(final)"
   ]
  },
  {
   "cell_type": "code",
   "execution_count": 93,
   "metadata": {},
   "outputs": [
    {
     "data": {
      "text/plain": [
       "'hello Sudhanshu Kumar like play Cricket'"
      ]
     },
     "execution_count": 93,
     "metadata": {},
     "output_type": "execute_result"
    }
   ],
   "source": [
    "text_process(\"Hello my name is Sudhanshu Kumar and I like playing Cricket!!!\")"
   ]
  },
  {
   "cell_type": "code",
   "execution_count": 6,
   "metadata": {},
   "outputs": [],
   "source": [
    "# toxic['text length'] = toxic['comment_text'].apply(len)  #adding a new feature"
   ]
  },
  {
   "cell_type": "code",
   "execution_count": 7,
   "metadata": {},
   "outputs": [],
   "source": [
    "# processed=df[\"comment_text\"].apply(text_process)"
   ]
  },
  {
   "cell_type": "code",
   "execution_count": 8,
   "metadata": {},
   "outputs": [],
   "source": [
    "# df[\"filtered\"]=processed"
   ]
  },
  {
   "cell_type": "markdown",
   "metadata": {},
   "source": [
    "**exporting the new processed csv file**"
   ]
  },
  {
   "cell_type": "code",
   "execution_count": 9,
   "metadata": {},
   "outputs": [],
   "source": [
    "# df.to_csv(r'/filtered_text.csv', index = False)"
   ]
  },
  {
   "cell_type": "markdown",
   "metadata": {},
   "source": [
    "### Loading new dataframe with filtered text"
   ]
  },
  {
   "cell_type": "code",
   "execution_count": 94,
   "metadata": {},
   "outputs": [],
   "source": [
    "df=pd.read_csv(\"filtered_text.csv\")\n",
    "df[\"filtered\"]=df[\"filtered\"].apply(lambda x: np.str_(x))"
   ]
  },
  {
   "cell_type": "code",
   "execution_count": 97,
   "metadata": {},
   "outputs": [
    {
     "data": {
      "text/plain": [
       "id                                                007f1839ada915e6\n",
       "comment_text     Your blatant POV pushing \\n\\nNeither of you gu...\n",
       "toxic                                                            1\n",
       "severe_toxic                                                     0\n",
       "obscene                                                          1\n",
       "threat                                                           0\n",
       "insult                                                           0\n",
       "identity_hate                                                    0\n",
       "filtered         blatant POV pushing guys contribution Italian ...\n",
       "text length                                                    379\n",
       "Name: 201, dtype: object"
      ]
     },
     "execution_count": 97,
     "metadata": {},
     "output_type": "execute_result"
    }
   ],
   "source": [
    "df.iloc[201]\n",
    "# print(df.iloc[201].comment_text,\"\\n\")"
   ]
  },
  {
   "cell_type": "markdown",
   "metadata": {},
   "source": [
    "## Data Visualisation"
   ]
  },
  {
   "cell_type": "code",
   "execution_count": 88,
   "metadata": {},
   "outputs": [
    {
     "data": {
      "text/plain": [
       "<seaborn.axisgrid.FacetGrid at 0x7fb56a9f2d90>"
      ]
     },
     "execution_count": 88,
     "metadata": {},
     "output_type": "execute_result"
    },
    {
     "data": {
      "image/png": "[encoded data removed]",
      "text/plain": [
       "<Figure size 360x360 with 1 Axes>"
      ]
     },
     "metadata": {
      "needs_background": "light"
     },
     "output_type": "display_data"
    }
   ],
   "source": [
    "sns.displot(df['text length'],bins=25)   #ylabel-> count of comments"
   ]
  },
  {
   "cell_type": "code",
   "execution_count": 12,
   "metadata": {},
   "outputs": [
    {
     "data": {
      "text/plain": [
       "<AxesSubplot:xlabel='identity_hate', ylabel='count'>"
      ]
     },
     "execution_count": 12,
     "metadata": {},
     "output_type": "execute_result"
    },
    {
     "data": {
      "image/png": "[encoded data removed]",
      "text/plain": [
       "<Figure size 1152x720 with 6 Axes>"
      ]
     },
     "metadata": {
      "needs_background": "light"
     },
     "output_type": "display_data"
    }
   ],
   "source": [
    "fig,ax= plt.subplots(2,3,figsize=(16,10))  #returns a 2D array\n",
    "ax1,ax2,ax3,ax4,ax5,ax6 = ax.flatten()    #returns an array of Axes objects\n",
    "sns.countplot(x=df['toxic'],palette= 'magma',ax=ax1)\n",
    "sns.countplot(x=df['severe_toxic'], palette= 'viridis',ax=ax2)\n",
    "sns.countplot(x=df['obscene'], palette= 'Set2',ax=ax3)\n",
    "sns.countplot(x=df['threat'], palette= 'viridis',ax = ax4)\n",
    "sns.countplot(x=df['insult'], palette = 'Set3',ax=ax5)\n",
    "sns.countplot(x=df['identity_hate'], palette = 'Set1', ax = ax6)"
   ]
  },
  {
   "cell_type": "markdown",
   "metadata": {},
   "source": [
    "## Feature Extraction"
   ]
  },
  {
   "attachments": {
    "vectorchart.PNG": {
     "image/png": "[encoded data removed]"
    }
   },
   "cell_type": "markdown",
   "metadata": {},
   "source": [
    "**Count Vectorizer**: a common technique for extracting features from text is to place all of the words that occur in the text in a bucket. This aproach is called a bag of words model or BoW for short. It’s referred to as a “bag” of words because any information about the structure of the sentence is lost.\n",
    "\n",
    "![vectorchart.PNG](attachment:vectorchart.PNG)\n"
   ]
  },
  {
   "cell_type": "markdown",
   "metadata": {},
   "source": [
    "**TF-IDF Vectorizer**: It is a measure of a word orginality/relevant of by comparing the number of times a word appears in a doc with number of doc the word appears in"
   ]
  },
  {
   "attachments": {
    "1*Uucq42G4ntPGJKzI84b3aA.png": {
     "image/png": "[encoded data removed]"
    }
   },
   "cell_type": "markdown",
   "metadata": {},
   "source": [
    "![1*Uucq42G4ntPGJKzI84b3aA.png](attachment:1*Uucq42G4ntPGJKzI84b3aA.png)"
   ]
  },
  {
   "cell_type": "markdown",
   "metadata": {},
   "source": [
    "max_df is used for removing terms that appear too frequently, also known as \"corpus-specific stop words\". For example:\n",
    "\n",
    "**max_df = 0.80 means \"ignore terms that appear in more than 80% of the documents\".**"
   ]
  },
  {
   "cell_type": "code",
   "execution_count": 13,
   "metadata": {},
   "outputs": [],
   "source": [
    "from sklearn.feature_extraction.text import TfidfVectorizer\n",
    "from sklearn.linear_model import LogisticRegression\n",
    "from sklearn.model_selection import train_test_split"
   ]
  },
  {
   "cell_type": "code",
   "execution_count": 14,
   "metadata": {},
   "outputs": [],
   "source": [
    "tfidf=TfidfVectorizer(max_df=0.8)"
   ]
  },
  {
   "cell_type": "code",
   "execution_count": 15,
   "metadata": {},
   "outputs": [],
   "source": [
    "X=df[\"filtered\"]\n",
    "X_vec=tfidf.fit_transform(X)"
   ]
  },
  {
   "cell_type": "code",
   "execution_count": 16,
   "metadata": {
    "collapsed": true
   },
   "outputs": [
    {
     "name": "stdout",
     "output_type": "stream",
     "text": [
      "  (0, 117310)\t0.25091376668237186\n",
      "  (0, 101217)\t0.09050316768269731\n",
      "  (0, 136445)\t0.09283272038843154\n",
      "  (0, 137803)\t0.17101321266214992\n",
      "  (0, 116066)\t0.1499601301720491\n",
      "  (0, 47564)\t0.24414707641601813\n",
      "  (0, 39301)\t0.32989337154427456\n",
      "  (0, 156489)\t0.21209730283904113\n",
      "  (0, 94592)\t0.13141052284173838\n",
      "  (0, 150136)\t0.24253113274839233\n",
      "  (0, 53915)\t0.25091376668237186\n",
      "  (0, 25894)\t0.2830510229958944\n",
      "  (0, 147856)\t0.31380112887037037\n",
      "  (0, 117547)\t0.16179158357757212\n",
      "  (0, 48127)\t0.2096440947599103\n",
      "  (0, 87398)\t0.31714689080377967\n",
      "  (0, 59847)\t0.27630369175180525\n",
      "  (0, 147118)\t0.19262131392098938\n",
      "  (0, 42025)\t0.13372327956837268\n",
      "  (0, 47048)\t0.18815561024678043\n",
      "  (1, 147284)\t0.22886495807766202\n",
      "  (1, 70880)\t0.32779103622659034\n",
      "  (1, 138568)\t0.19369612124547844\n",
      "  (1, 133049)\t0.3873591015417641\n",
      "  (1, 123583)\t0.4248656910923526\n",
      "  :\t:\n",
      "  (159568, 21221)\t0.3447065804426921\n",
      "  (159568, 118273)\t0.3334481570105071\n",
      "  (159568, 8464)\t0.11144259032084947\n",
      "  (159568, 1369)\t0.24216539188969458\n",
      "  (159569, 81378)\t0.44458334761039336\n",
      "  (159569, 1375)\t0.36451276268313026\n",
      "  (159569, 148832)\t0.4266118934994476\n",
      "  (159569, 80040)\t0.2504590524811867\n",
      "  (159569, 81358)\t0.33690431291709544\n",
      "  (159569, 130334)\t0.4346568161391809\n",
      "  (159569, 34799)\t0.34973930912223816\n",
      "  (159570, 61194)\t0.2761556818638339\n",
      "  (159570, 117696)\t0.29226938501808103\n",
      "  (159570, 65037)\t0.2669245787744394\n",
      "  (159570, 65012)\t0.21315352794938544\n",
      "  (159570, 75226)\t0.21522575937081898\n",
      "  (159570, 10689)\t0.4462657956963789\n",
      "  (159570, 27341)\t0.22865748618214546\n",
      "  (159570, 118163)\t0.17394357564924806\n",
      "  (159570, 56212)\t0.24391228769442397\n",
      "  (159570, 145089)\t0.19501478874782235\n",
      "  (159570, 11291)\t0.4262165554619804\n",
      "  (159570, 20678)\t0.22933805579891434\n",
      "  (159570, 139204)\t0.13950435727508817\n",
      "  (159570, 68217)\t0.2058534763304203\n"
     ]
    }
   ],
   "source": [
    "print(X_vec)   # (rows, columns) TF-IDF value"
   ]
  },
  {
   "cell_type": "markdown",
   "metadata": {},
   "source": [
    "## Model Training using LOGISTIC Regression"
   ]
  },
  {
   "cell_type": "code",
   "execution_count": 17,
   "metadata": {},
   "outputs": [
    {
     "name": "stdout",
     "output_type": "stream",
     "text": [
      "Test Data Score: 0.9540028199906\n"
     ]
    }
   ],
   "source": [
    "#Toxic Labels\n",
    "y=df[\"toxic\"]\n",
    "\n",
    "X_train, X_test, y_train, y_test = train_test_split(X_vec, y, test_size=0.2, random_state=42)\n",
    "\n",
    "lr_toxic=LogisticRegression(max_iter=1000).fit(X_train,y_train)\n",
    "predictions=lr_toxic.predict(X_test)\n",
    "\n",
    "# joblib.dump(lr_toxic, 'toxic.joblib')\n",
    "print(\"Test Data Score:\",lr_toxic.score(X_test,y_test))"
   ]
  },
  {
   "cell_type": "code",
   "execution_count": 18,
   "metadata": {},
   "outputs": [
    {
     "name": "stdout",
     "output_type": "stream",
     "text": [
      "Test Data Score: 0.9908193639354536\n"
     ]
    }
   ],
   "source": [
    "#Severe_toxic Labels\n",
    "y=df[\"severe_toxic\"]\n",
    "\n",
    "X_train, X_test, y_train, y_test = train_test_split(X_vec, y, test_size=0.2, random_state=42)\n",
    "\n",
    "lr_stoxic=LogisticRegression(max_iter=1000).fit(X_train,y_train)\n",
    "predictions=lr_stoxic.predict(X_test)\n",
    "\n",
    "# joblib.dump(lr_stoxic, 'stoxic.joblib')\n",
    "\n",
    "print(\"Test Data Score:\",lr_stoxic.score(X_test,y_test))"
   ]
  },
  {
   "cell_type": "code",
   "execution_count": 19,
   "metadata": {},
   "outputs": [
    {
     "name": "stdout",
     "output_type": "stream",
     "text": [
      "Test Data Score: 0.9751214162619458\n"
     ]
    }
   ],
   "source": [
    "#Obscene Labels\n",
    "y=df[\"obscene\"]\n",
    "\n",
    "X_train, X_test, y_train, y_test = train_test_split(X_vec, y, test_size=0.2, random_state=42)\n",
    "\n",
    "lr_obscene=LogisticRegression(max_iter=1000).fit(X_train,y_train)\n",
    "predictions=lr_obscene.predict(X_test)\n",
    "\n",
    "# joblib.dump(lr_obscene, 'obscene.joblib')\n",
    "\n",
    "print(\"Test Data Score:\",lr_obscene.score(X_test,y_test))"
   ]
  },
  {
   "cell_type": "code",
   "execution_count": 20,
   "metadata": {},
   "outputs": [
    {
     "name": "stdout",
     "output_type": "stream",
     "text": [
      "Test Data Score: 0.9977126742910857\n"
     ]
    }
   ],
   "source": [
    "#Threat Labels\n",
    "y=df[\"threat\"]\n",
    "\n",
    "X_train, X_test, y_train, y_test = train_test_split(X_vec, y, test_size=0.2, random_state=42)\n",
    "\n",
    "lr_threat=LogisticRegression(max_iter=1000).fit(X_train,y_train)\n",
    "predictions=lr_threat.predict(X_test)\n",
    "\n",
    "# joblib.dump(lr_threat, 'threat.joblib')\n",
    "\n",
    "print(\"Test Data Score:\",lr_threat.score(X_test,y_test))"
   ]
  },
  {
   "cell_type": "code",
   "execution_count": 21,
   "metadata": {},
   "outputs": [
    {
     "name": "stdout",
     "output_type": "stream",
     "text": [
      "Test Data Score: 0.9680401065329782\n"
     ]
    }
   ],
   "source": [
    "#Insult Labels\n",
    "y=df[\"insult\"]\n",
    "\n",
    "X_train, X_test, y_train, y_test = train_test_split(X_vec, y, test_size=0.2, random_state=42)\n",
    "\n",
    "lr_insult=LogisticRegression(max_iter=1000).fit(X_train,y_train)\n",
    "predictions=lr_insult.predict(X_test)\n",
    "\n",
    "# joblib.dump(lr_insult, 'insult.joblib')\n",
    "\n",
    "print(\"Test Data Score:\",lr_insult.score(X_test,y_test))"
   ]
  },
  {
   "cell_type": "code",
   "execution_count": 22,
   "metadata": {},
   "outputs": [
    {
     "name": "stdout",
     "output_type": "stream",
     "text": [
      "Test Data Score: 0.9707347642174526\n"
     ]
    }
   ],
   "source": [
    "#Identity_hate Labels\n",
    "y=df[\"identity_hate\"]\n",
    "\n",
    "X_train, X_test, y_train, y_test = train_test_split(X_vec, y, test_size=0.2, random_state=42)\n",
    "\n",
    "lr_ihate=LogisticRegression(max_iter=1000).fit(X_train,y_train)\n",
    "predictions=lr_ihate.predict(X_test)\n",
    "\n",
    "# joblib.dump(lr_ihate, 'ihate.joblib')\n",
    "\n",
    "print(\"Test Data Score:\",lr_insult.score(X_test,y_test))"
   ]
  },
  {
   "cell_type": "code",
   "execution_count": 98,
   "metadata": {},
   "outputs": [],
   "source": [
    "def prediction(vector_comment):\n",
    "    mes = \"This comment is: \"\n",
    "    flag=False\n",
    "    \n",
    "    if lr_toxic.predict(vector_comment)[0]==1:\n",
    "        mes += \"toxic\"\n",
    "        flag=True\n",
    "\n",
    "    if lr_stoxic.predict(vector_comment)[0] ==1:\n",
    "        mes += \", severe toxic\"\n",
    "        flag=True\n",
    "\n",
    "    if lr_obscene.predict(vector_comment)[0]==1:\n",
    "        mes += \", obscene\"\n",
    "        flag=True\n",
    "\n",
    "    if lr_threat.predict(vector_comment)[0]==1:\n",
    "        mes += \", threatening\"\n",
    "        flag=True\n",
    "\n",
    "    if lr_insult.predict(vector_comment)[0]==1:\n",
    "        mes += \", insulting \"\n",
    "        flag=True\n",
    "\n",
    "    if lr_ihate.predict(vector_comment)[0]==1:\n",
    "        mes += \", attack on identity \"\n",
    "        flag=True\n",
    "\n",
    "    if flag!=True:\n",
    "        return \"This comment is clean\",flag\n",
    "\n",
    "    return mes,flag\n",
    "\n",
    "def in_text(comment):\n",
    "    filtered_comment = text_process(comment)\n",
    "    vector_comment = tfidf.transform([filtered_comment])\n",
    "    result,flag = prediction(vector_comment)\n",
    "    return result"
   ]
  },
  {
   "cell_type": "code",
   "execution_count": 101,
   "metadata": {},
   "outputs": [
    {
     "name": "stdout",
     "output_type": "stream",
     "text": [
      "Input your comment:  l\n"
     ]
    },
    {
     "data": {
      "text/plain": [
       "'This comment is clean'"
      ]
     },
     "execution_count": 101,
     "metadata": {},
     "output_type": "execute_result"
    }
   ],
   "source": [
    "in_text(input(\"Input your comment:  \"))"
   ]
  },
  {
   "cell_type": "code",
   "execution_count": 100,
   "metadata": {},
   "outputs": [],
   "source": [
    "# You must be a Nazi faggot.\n",
    "# I will kill you!!\n",
    "# are you dumb?\n",
    "# Hey you nigger"
   ]
  },
  {
   "cell_type": "markdown",
   "metadata": {},
   "source": [
    "### Working with Test data"
   ]
  },
  {
   "cell_type": "code",
   "execution_count": null,
   "metadata": {},
   "outputs": [],
   "source": []
  },
  {
   "cell_type": "code",
   "execution_count": 23,
   "metadata": {},
   "outputs": [],
   "source": [
    "test_df=pd.read_csv(\"test.csv\")\n",
    "test = test_df['comment_text']\n",
    "test_vec = tfidf.transform(test)"
   ]
  },
  {
   "cell_type": "code",
   "execution_count": 24,
   "metadata": {},
   "outputs": [],
   "source": [
    "prob_toxic = lr_toxic.predict_proba(test_vec)\n",
    "prob_stoxic = lr_stoxic.predict_proba(test_vec)\n",
    "prob_obscene = lr_obscene.predict_proba(test_vec)\n",
    "prob_threat = lr_threat.predict_proba(test_vec)\n",
    "prob_insult = lr_insult.predict_proba(test_vec)\n",
    "prob_ihate = lr_ihate.predict_proba(test_vec)"
   ]
  },
  {
   "cell_type": "code",
   "execution_count": 25,
   "metadata": {},
   "outputs": [
    {
     "data": {
      "text/plain": [
       "array([0.00819895, 0.99180105])"
      ]
     },
     "execution_count": 25,
     "metadata": {},
     "output_type": "execute_result"
    }
   ],
   "source": [
    "prob_toxic[0]"
   ]
  },
  {
   "cell_type": "code",
   "execution_count": 26,
   "metadata": {},
   "outputs": [
    {
     "data": {
      "text/plain": [
       "\"Explanation\\nWhy the edits made under my username Hardcore Metallica Fan were reverted? They weren't vandalisms, just closure on some GAs after I voted at New York Dolls FAC. And please don't remove the template from the talk page since I'm retired now.89.205.38.27\""
      ]
     },
     "execution_count": 26,
     "metadata": {},
     "output_type": "execute_result"
    }
   ],
   "source": [
    "df.iloc[0][1]"
   ]
  },
  {
   "cell_type": "code",
   "execution_count": 27,
   "metadata": {},
   "outputs": [],
   "source": [
    "df1 = pd.DataFrame(prob_toxic[:,1],columns={'toxic'})\n",
    "df2 = pd.DataFrame(prob_stoxic[:,1],columns={'severe_toxic'})\n",
    "df3 = pd.DataFrame(prob_obscene[:,1],columns={'obscene'})\n",
    "df4 = pd.DataFrame(prob_threat[:,1],columns={'threat'})\n",
    "df5 = pd.DataFrame(prob_insult[:,1],columns={'insult'})\n",
    "df6 = pd.DataFrame(prob_ihate[:,1],columns={'identity_hate'})"
   ]
  },
  {
   "cell_type": "code",
   "execution_count": 28,
   "metadata": {},
   "outputs": [],
   "source": [
    "df7 = pd.concat([test_df['id'],df1,df2,df3,df4,df5,df6],axis=1)"
   ]
  },
  {
   "cell_type": "code",
   "execution_count": 29,
   "metadata": {},
   "outputs": [],
   "source": [
    "df7.set_index('id',inplace=True)\n",
    "# df7.to_csv(path_or_buf='submission.csv')"
   ]
  },
  {
   "cell_type": "code",
   "execution_count": 30,
   "metadata": {},
   "outputs": [
    {
     "data": {
      "text/html": [
       "<div>\n",
       "<style scoped>\n",
       "    .dataframe tbody tr th:only-of-type {\n",
       "        vertical-align: middle;\n",
       "    }\n",
       "\n",
       "    .dataframe tbody tr th {\n",
       "        vertical-align: top;\n",
       "    }\n",
       "\n",
       "    .dataframe thead th {\n",
       "        text-align: right;\n",
       "    }\n",
       "</style>\n",
       "<table border=\"1\" class=\"dataframe\">\n",
       "  <thead>\n",
       "    <tr style=\"text-align: right;\">\n",
       "      <th></th>\n",
       "      <th>toxic</th>\n",
       "      <th>severe_toxic</th>\n",
       "      <th>obscene</th>\n",
       "      <th>threat</th>\n",
       "      <th>insult</th>\n",
       "      <th>identity_hate</th>\n",
       "    </tr>\n",
       "    <tr>\n",
       "      <th>id</th>\n",
       "      <th></th>\n",
       "      <th></th>\n",
       "      <th></th>\n",
       "      <th></th>\n",
       "      <th></th>\n",
       "      <th></th>\n",
       "    </tr>\n",
       "  </thead>\n",
       "  <tbody>\n",
       "    <tr>\n",
       "      <th>00001cee341fdb12</th>\n",
       "      <td>0.991801</td>\n",
       "      <td>0.129658</td>\n",
       "      <td>0.983492</td>\n",
       "      <td>0.022613</td>\n",
       "      <td>0.864956</td>\n",
       "      <td>0.140699</td>\n",
       "    </tr>\n",
       "    <tr>\n",
       "      <th>0000247867823ef7</th>\n",
       "      <td>0.011239</td>\n",
       "      <td>0.003144</td>\n",
       "      <td>0.007374</td>\n",
       "      <td>0.001955</td>\n",
       "      <td>0.008917</td>\n",
       "      <td>0.003827</td>\n",
       "    </tr>\n",
       "    <tr>\n",
       "      <th>00013b17ad220c46</th>\n",
       "      <td>0.047377</td>\n",
       "      <td>0.004497</td>\n",
       "      <td>0.018454</td>\n",
       "      <td>0.001974</td>\n",
       "      <td>0.022510</td>\n",
       "      <td>0.005224</td>\n",
       "    </tr>\n",
       "    <tr>\n",
       "      <th>00017563c3f7919a</th>\n",
       "      <td>0.003038</td>\n",
       "      <td>0.001921</td>\n",
       "      <td>0.003114</td>\n",
       "      <td>0.001254</td>\n",
       "      <td>0.002515</td>\n",
       "      <td>0.000978</td>\n",
       "    </tr>\n",
       "    <tr>\n",
       "      <th>00017695ad8997eb</th>\n",
       "      <td>0.030508</td>\n",
       "      <td>0.002648</td>\n",
       "      <td>0.011630</td>\n",
       "      <td>0.001857</td>\n",
       "      <td>0.013397</td>\n",
       "      <td>0.003926</td>\n",
       "    </tr>\n",
       "  </tbody>\n",
       "</table>\n",
       "</div>"
      ],
      "text/plain": [
       "                     toxic  severe_toxic   obscene    threat    insult  \\\n",
       "id                                                                       \n",
       "00001cee341fdb12  0.991801      0.129658  0.983492  0.022613  0.864956   \n",
       "0000247867823ef7  0.011239      0.003144  0.007374  0.001955  0.008917   \n",
       "00013b17ad220c46  0.047377      0.004497  0.018454  0.001974  0.022510   \n",
       "00017563c3f7919a  0.003038      0.001921  0.003114  0.001254  0.002515   \n",
       "00017695ad8997eb  0.030508      0.002648  0.011630  0.001857  0.013397   \n",
       "\n",
       "                  identity_hate  \n",
       "id                               \n",
       "00001cee341fdb12       0.140699  \n",
       "0000247867823ef7       0.003827  \n",
       "00013b17ad220c46       0.005224  \n",
       "00017563c3f7919a       0.000978  \n",
       "00017695ad8997eb       0.003926  "
      ]
     },
     "execution_count": 30,
     "metadata": {},
     "output_type": "execute_result"
    }
   ],
   "source": [
    "df7.head()  "
   ]
  },
  {
   "cell_type": "markdown",
   "metadata": {},
   "source": [
    " ### All over Score got on kaggle:  _96.587 %_"
   ]
  }
 ],
 "metadata": {
  "kernelspec": {
   "display_name": "Python 3",
   "language": "python",
   "name": "python3"
  },
  "language_info": {
   "codemirror_mode": {
    "name": "ipython",
    "version": 3
   },
   "file_extension": ".py",
   "mimetype": "text/x-python",
   "name": "python",
   "nbconvert_exporter": "python",
   "pygments_lexer": "ipython3",
   "version": "3.7.9"
  }
 },
 "nbformat": 4,
 "nbformat_minor": 4
}
